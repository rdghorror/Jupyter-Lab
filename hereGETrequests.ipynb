{
 "cells": [
  {
   "cell_type": "code",
   "execution_count": 1,
   "metadata": {},
   "outputs": [],
   "source": [
    "import requests\n",
    "import json\n",
    "import pandas as pd"
   ]
  },
  {
   "cell_type": "code",
   "execution_count": 2,
   "metadata": {},
   "outputs": [],
   "source": [
    "#developer here credentials\n",
    "api_key='z2wtjA3NmXLqaDMvyqjNqw'\n",
    "app_id='EAt2wl3UYDTCk3WaUI0R'"
   ]
  },
  {
   "cell_type": "code",
   "execution_count": 3,
   "metadata": {},
   "outputs": [],
   "source": [
    "#read data file\n",
    "dfa=pd.read_csv('Documents/data.csv')"
   ]
  },
  {
   "cell_type": "code",
   "execution_count": 4,
   "metadata": {},
   "outputs": [],
   "source": [
    "#create empty dataframe\n",
    "dfb=pd.DataFrame()"
   ]
  },
  {
   "cell_type": "code",
   "execution_count": 5,
   "metadata": {},
   "outputs": [],
   "source": [
    "#create a list for distances\n",
    "distance1=[]\n",
    "distance2=[]\n",
    "distance3=[]"
   ]
  },
  {
   "cell_type": "code",
   "execution_count": 6,
   "metadata": {},
   "outputs": [],
   "source": [
    "dfa['location']=dfa['location'].astype(str)\n",
    "dfa['destinationA']=dfa['destinationA'].astype(str)\n",
    "dfa['destinationB']=dfa['destinationB'].astype(str)"
   ]
  },
  {
   "cell_type": "code",
   "execution_count": 7,
   "metadata": {},
   "outputs": [],
   "source": [
    "for i, j in dfa.iterrows():\n",
    "    source=(j['location'])\n",
    "    dest=(j['destinationA'])\n",
    "    location=(j['destinationB'])\n",
    "    url='https://route.api.here.com/routing/7.2/calculateroute.json'\n",
    "    r=requests.get(url+\n",
    "                  '?app_id='+app_id+\n",
    "                  '&app_code='+api_key+\n",
    "                  '&waypoint0=geo!'+source+\n",
    "                  '&waypoint1=geo!'+dest+\n",
    "                  '&mode=fastest;car;traffic:disabled'\n",
    "                  )\n",
    "    x=r.json()\n",
    "    length1=x['response']['route'][0]['leg'][0]['length']\n",
    "    distance1.append(length1)\n",
    "    r2=requests.get(url+\n",
    "                  '?app_id='+app_id+\n",
    "                  '&app_code='+api_key+\n",
    "                  '&waypoint0=geo!'+dest+\n",
    "                  '&waypoint1=geo!'+location+\n",
    "                  '&mode=fastest;car;traffic:disabled'\n",
    "                  )\n",
    "    x2=r2.json()\n",
    "    length2=x2['response']['route'][0]['leg'][0]['length']\n",
    "    distance2.append(length2)\n",
    "    r3=requests.get(url+\n",
    "                  '?app_id='+app_id+\n",
    "                  '&app_code='+api_key+\n",
    "                  '&waypoint0=geo!'+location+\n",
    "                  '&waypoint1=geo!'+source+\n",
    "                  '&mode=fastest;car;traffic:disabled'\n",
    "                  )\n",
    "    x3=r3.json()\n",
    "    length3=x3['response']['route'][0]['leg'][0]['length']\n",
    "    distance3.append(length3)"
   ]
  },
  {
   "cell_type": "code",
   "execution_count": 8,
   "metadata": {},
   "outputs": [],
   "source": [
    "dfb['length1(meters)']=distance1\n",
    "dfb['length2(meters)']=distance2\n",
    "dfb['length3(meters)']=distance3"
   ]
  },
  {
   "cell_type": "code",
   "execution_count": 9,
   "metadata": {},
   "outputs": [],
   "source": [
    "dfb['roundtrip']=dfb['length1(meters)']+dfb['length2(meters)']+dfb['length3(meters)']"
   ]
  },
  {
   "cell_type": "code",
   "execution_count": 10,
   "metadata": {},
   "outputs": [],
   "source": [
    "dfb['milesroundtrip']=(dfb['roundtrip']/1000)/1.609"
   ]
  },
  {
   "cell_type": "code",
   "execution_count": 12,
   "metadata": {},
   "outputs": [],
   "source": [
    "dfb.to_csv('Documents/RawData.csv')"
   ]
  },
  {
   "cell_type": "code",
   "execution_count": null,
   "metadata": {},
   "outputs": [],
   "source": []
  }
 ],
 "metadata": {
  "kernelspec": {
   "display_name": "Python 3",
   "language": "python",
   "name": "python3"
  },
  "language_info": {
   "codemirror_mode": {
    "name": "ipython",
    "version": 3
   },
   "file_extension": ".py",
   "mimetype": "text/x-python",
   "name": "python",
   "nbconvert_exporter": "python",
   "pygments_lexer": "ipython3",
   "version": "3.7.4"
  }
 },
 "nbformat": 4,
 "nbformat_minor": 2
}
